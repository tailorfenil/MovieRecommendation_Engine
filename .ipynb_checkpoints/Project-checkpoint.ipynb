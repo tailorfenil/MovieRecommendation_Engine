{
 "cells": [
  {
   "cell_type": "code",
   "execution_count": 2,
   "metadata": {
    "collapsed": false
   },
   "outputs": [],
   "source": [
    "import pandas as pd\n",
    "import numpy as np\n",
    "from sklearn import datasets, linear_model\n",
    "from kmodes import kmodes\n",
    "import random\n",
    "from scipy.spatial.distance import cdist,pdist\n",
    "#moviesdf = pd.read_csv('./ml-100k/u.item', header=None,sep='|')\n",
    "moviesdf1 = pd.read_csv('./ml-latest-small/movies.csv')\n",
    "ratingsdf = pd.read_csv('./ml-latest-small/ratings.csv')\n",
    "ratingsdf=ratingsdf.groupby('movieId').filter(lambda x: len(x) >= 10)\n",
    "ratingsdf=ratingsdf.reset_index(drop=True)"
   ]
  },
  {
   "cell_type": "code",
   "execution_count": 3,
   "metadata": {
    "collapsed": false
   },
   "outputs": [],
   "source": [
    "cols_to_be_repeated = [\"movieId\", \"title\"]\n",
    "splitdf = lambda x: x.split('|')\n",
    "s = moviesdf1.genres.str.split(\"|\").apply(pd.Series, 1).stack()\n",
    "s.index = s.index.droplevel(-1)\n",
    "del moviesdf1['genres']\n",
    "moviesdfnew=moviesdf1.join(pd.DataFrame(s))\n",
    "\n"
   ]
  },
  {
   "cell_type": "code",
   "execution_count": 4,
   "metadata": {
    "collapsed": false
   },
   "outputs": [],
   "source": [
    "moviesdfnew.columns = ['movieId','title','genres']\n"
   ]
  },
  {
   "cell_type": "code",
   "execution_count": 5,
   "metadata": {
    "collapsed": false
   },
   "outputs": [],
   "source": [
    "df=pd.get_dummies(moviesdfnew['genres'])"
   ]
  },
  {
   "cell_type": "code",
   "execution_count": 188,
   "metadata": {
    "collapsed": false
   },
   "outputs": [],
   "source": [
    "moviesdf2=df.groupby(df.index).sum()\n",
    "movies=moviesdf1.join(moviesdf2, lsuffix='_moviesdf1', rsuffix='_moviedsf2')"
   ]
  },
  {
   "cell_type": "code",
   "execution_count": 189,
   "metadata": {
    "collapsed": false
   },
   "outputs": [],
   "source": [
    "\n",
    "titles = movies\n",
    "titles1 = titles.drop(titles.columns[[0, 1]], axis=1, inplace=True)\n",
    "titles1 = titles.as_matrix()\n"
   ]
  },
  {
   "cell_type": "code",
   "execution_count": 190,
   "metadata": {
    "collapsed": false
   },
   "outputs": [],
   "source": [
    "def withinss(km): \n",
    "    centroids =(km.cluster_centroids_)\n",
    "    D_k = [cdist(titles, centroids, 'jaccard')]\n",
    "    cIdx = [np.argmin(D,axis=1) for D in D_k]\n",
    "    dist = [np.min(D,axis=1) for D in D_k]\n",
    "    avgWithinSS = [sum(d)/titles.shape[0] for d in dist]\n",
    "    return avgWithinSS\n",
    "\n",
    "\n"
   ]
  },
  {
   "cell_type": "code",
   "execution_count": 191,
   "metadata": {
    "collapsed": false
   },
   "outputs": [],
   "source": [
    "def clusterFilms(titles):\n",
    "    random.seed(101)\n",
    "    i = 1\n",
    "    while(1):\n",
    "        i = i+1\n",
    "        movieCluster1 = kmodes.KModes(n_clusters=i, init='Huang', n_init=5, verbose=1).fit(titles)\n",
    "        movieCluster2 = kmodes.KModes(n_clusters=i+1, init='Huang', n_init=5, verbose=1).fit(titles)\n",
    "        ss1 = withinss(movieCluster1)\n",
    "        ss2 = withinss(movieCluster2)\n",
    "        print ss1\n",
    "         #decision criterion\n",
    "        dss = (ss1[0]-ss2[0])/ss1[0]\n",
    "        #exit if dss < 0.2\n",
    "        if (dss < 0.2): break\n",
    "    return(movieCluster1)\n",
    "        "
   ]
  },
  {
   "cell_type": "code",
   "execution_count": 229,
   "metadata": {
    "collapsed": false,
    "scrolled": true
   },
   "outputs": [],
   "source": [
    "#moviecluster=clusterFilms(titles)\n",
    "\n",
    "#ratingsdf.head()\n",
    "def getUserInfo(ratingsdf,id):\n",
    "    df = ratingsdf[ratingsdf.userId == 3][['movieId','rating']]\n",
    "    a=pd.DataFrame(df.sort('movieId'))\n",
    "    a=a.reset_index(drop=True)    \n",
    "    return a\n"
   ]
  },
  {
   "cell_type": "code",
   "execution_count": 230,
   "metadata": {
    "collapsed": false
   },
   "outputs": [],
   "source": [
    "def setcluster(moviecluster,a):\n",
    "    df1=pd.DataFrame(moviesdf1.movieId)\n",
    "    df1['clusterno'] = moviecluster.labels_\n",
    "    df2 = df1[df1.movieId.isin(a.movieId)]\n",
    "    df2=df2.reset_index(drop=True)\n",
    "    a['cluster']=df2.clusterno\n",
    "\n",
    "    return a"
   ]
  },
  {
   "cell_type": "code",
   "execution_count": 217,
   "metadata": {
    "collapsed": false
   },
   "outputs": [],
   "source": [
    "def getmeanratings(a):\n",
    "    b=pd.DataFrame(a.groupby(a.cluster)['rating'].mean())\n",
    "    \n",
    "    c = b[b.rating==max(b.rating)].index\n",
    "    return c\n"
   ]
  },
  {
   "cell_type": "code",
   "execution_count": 197,
   "metadata": {
    "collapsed": false
   },
   "outputs": [],
   "source": [
    "def getrecommendedfilms(c,moviecluster,moviesdf1,a,ratingsdf):\n",
    "    df1=pd.DataFrame(moviesdf1.movieId)\n",
    "    df1['clusterno'] = moviecluster.labels_\n",
    "    df3=df1[df1.clusterno.isin(c)][['movieId']]\n",
    "    df3 = df3.reset_index(drop=True)\n",
    "    df3 = df3[~df3.movieId.isin(a.movieId)]\n",
    "    df3 = df3.reset_index(drop=True)\n",
    "    d = ratingsdf[ratingsdf.movieId.isin(df3.movieId)]\n",
    "#b=pd.DataFrame(a.groupby(a.cluster)['rating'].mean())\n",
    "    d = d.reset_index(drop=True)\n",
    "    r=pd.DataFrame(d.groupby(d.movieId)['rating'].mean())\n",
    "    t=moviesdf1[moviesdf1.movieId.isin(r.index)]['title']\n",
    "    t.index = r.index\n",
    "    r['title']=t\n",
    "    return r.sort_values(by='rating',ascending=False)\n"
   ]
  },
  {
   "cell_type": "code",
   "execution_count": 241,
   "metadata": {
    "collapsed": false
   },
   "outputs": [],
   "source": [
    "def recommend(titles,moviesdf1,ratingsdf,userid,number):\n",
    "    moviecluster = clusterFilms(titles)\n",
    "    activeuser = getUserInfo(ratingsdf,userid)\n",
    "    activeuser = setcluster(moviecluster,activeuser)\n",
    "    cluster = getmeanratings(activeuser)\n",
    "    recommend = getrecommendedfilms(cluster,moviecluster,moviesdf1,activeuser,ratingsdf)\n",
    "    top = recommend.head(n = 50)\n",
    "    \n",
    "    return top.sample(number)\n",
    "    "
   ]
  },
  {
   "cell_type": "code",
   "execution_count": 242,
   "metadata": {
    "collapsed": false
   },
   "outputs": [
    {
     "name": "stdout",
     "output_type": "stream",
     "text": [
      "Init: initializing centroids\n",
      "Init: initializing clusters\n",
      "Starting iterations...\n",
      "Run 1, iteration: 1/100, moves: 0, cost: 20132.0\n",
      "Init: initializing centroids\n",
      "Init: initializing clusters\n",
      "Starting iterations...\n",
      "Run 2, iteration: 1/100, moves: 229, cost: 16003.0\n",
      "Run 2, iteration: 2/100, moves: 0, cost: 16003.0\n",
      "Init: initializing centroids\n",
      "Init: initializing clusters\n",
      "Starting iterations...\n",
      "Run 3, iteration: 1/100, moves: 363, cost: 16003.0\n",
      "Run 3, iteration: 2/100, moves: 0, cost: 16003.0\n",
      "Init: initializing centroids\n",
      "Init: initializing clusters\n",
      "Starting iterations...\n",
      "Run 4, iteration: 1/100, moves: 617, cost: 15975.0\n",
      "Run 4, iteration: 2/100, moves: 0, cost: 15975.0\n",
      "Init: initializing centroids\n",
      "Init: initializing clusters\n",
      "Starting iterations...\n",
      "Run 5, iteration: 1/100, moves: 1922, cost: 16003.0\n",
      "Run 5, iteration: 2/100, moves: 0, cost: 16003.0\n",
      "Best run was number 4\n",
      "Init: initializing centroids\n",
      "Init: initializing clusters\n",
      "Starting iterations...\n",
      "Run 1, iteration: 1/100, moves: 922, cost: 17774.0\n",
      "Run 1, iteration: 2/100, moves: 269, cost: 17774.0\n",
      "Init: initializing centroids\n",
      "Init: initializing clusters\n",
      "Starting iterations...\n",
      "Run 2, iteration: 1/100, moves: 1283, cost: 13845.0\n",
      "Run 2, iteration: 2/100, moves: 0, cost: 13845.0\n",
      "Init: initializing centroids\n",
      "Init: initializing clusters\n",
      "Starting iterations...\n",
      "Run 3, iteration: 1/100, moves: 986, cost: 13609.0\n",
      "Run 3, iteration: 2/100, moves: 0, cost: 13609.0\n",
      "Init: initializing centroids\n",
      "Init: initializing clusters\n",
      "Starting iterations...\n",
      "Run 4, iteration: 1/100, moves: 2158, cost: 15043.0\n",
      "Run 4, iteration: 2/100, moves: 0, cost: 15043.0\n",
      "Init: initializing centroids\n",
      "Init: initializing clusters\n",
      "Starting iterations...\n",
      "Run 5, iteration: 1/100, moves: 959, cost: 14453.0\n",
      "Run 5, iteration: 2/100, moves: 0, cost: 14453.0\n",
      "Best run was number 3\n",
      "[0.73339112850620969]\n",
      "Init: initializing centroids\n",
      "Init: initializing clusters\n",
      "Starting iterations...\n",
      "Run 1, iteration: 1/100, moves: 2063, cost: 14925.0\n",
      "Run 1, iteration: 2/100, moves: 503, cost: 14885.0\n",
      "Run 1, iteration: 3/100, moves: 402, cost: 14177.0\n",
      "Run 1, iteration: 4/100, moves: 563, cost: 14177.0\n",
      "Init: initializing centroids\n",
      "Init: initializing clusters\n",
      "Starting iterations...\n",
      "Run 2, iteration: 1/100, moves: 1487, cost: 14177.0\n",
      "Run 2, iteration: 2/100, moves: 529, cost: 14177.0\n",
      "Init: initializing centroids\n",
      "Init: initializing clusters\n",
      "Starting iterations...\n",
      "Run 3, iteration: 1/100, moves: 2660, cost: 14370.0\n",
      "Run 3, iteration: 2/100, moves: 0, cost: 14370.0\n",
      "Init: initializing centroids\n",
      "Init: initializing clusters\n",
      "Starting iterations...\n",
      "Run 4, iteration: 1/100, moves: 1986, cost: 15132.0\n",
      "Run 4, iteration: 2/100, moves: 3137, cost: 14453.0\n",
      "Run 4, iteration: 3/100, moves: 389, cost: 14453.0\n",
      "Init: initializing centroids\n",
      "Init: initializing clusters\n",
      "Starting iterations...\n",
      "Run 5, iteration: 1/100, moves: 2921, cost: 13609.0\n",
      "Run 5, iteration: 2/100, moves: 714, cost: 13609.0\n",
      "Best run was number 5\n",
      "Init: initializing centroids\n",
      "Init: initializing clusters\n",
      "Starting iterations...\n",
      "Run 1, iteration: 1/100, moves: 930, cost: 14475.0\n",
      "Run 1, iteration: 2/100, moves: 0, cost: 14475.0\n",
      "Init: initializing centroids\n",
      "Init: initializing clusters\n",
      "Starting iterations...\n",
      "Run 2, iteration: 1/100, moves: 2080, cost: 13054.0\n",
      "Run 2, iteration: 2/100, moves: 0, cost: 13054.0\n",
      "Init: initializing centroids\n",
      "Init: initializing clusters\n",
      "Starting iterations...\n",
      "Run 3, iteration: 1/100, moves: 1205, cost: 13863.0\n",
      "Run 3, iteration: 2/100, moves: 0, cost: 13863.0\n",
      "Init: initializing centroids\n",
      "Init: initializing clusters\n",
      "Starting iterations...\n",
      "Run 4, iteration: 1/100, moves: 983, cost: 14257.0\n",
      "Run 4, iteration: 2/100, moves: 0, cost: 14257.0\n",
      "Init: initializing centroids\n",
      "Init: initializing clusters\n",
      "Starting iterations...\n",
      "Run 5, iteration: 1/100, moves: 1071, cost: 16721.0\n",
      "Run 5, iteration: 2/100, moves: 488, cost: 16721.0\n",
      "Best run was number 2\n",
      "[0.57565153294194793]\n"
     ]
    },
    {
     "name": "stderr",
     "output_type": "stream",
     "text": [
      "/usr/local/lib/python2.7/dist-packages/ipykernel/__main__.py:6: FutureWarning: sort(columns=....) is deprecated, use sort_values(by=.....)\n"
     ]
    },
    {
     "data": {
      "text/html": [
       "<div>\n",
       "<table border=\"1\" class=\"dataframe\">\n",
       "  <thead>\n",
       "    <tr style=\"text-align: right;\">\n",
       "      <th></th>\n",
       "      <th>rating</th>\n",
       "      <th>title</th>\n",
       "    </tr>\n",
       "    <tr>\n",
       "      <th>movieId</th>\n",
       "      <th></th>\n",
       "      <th></th>\n",
       "    </tr>\n",
       "  </thead>\n",
       "  <tbody>\n",
       "    <tr>\n",
       "      <th>2186</th>\n",
       "      <td>4.260870</td>\n",
       "      <td>Strangers on a Train (1951)</td>\n",
       "    </tr>\n",
       "    <tr>\n",
       "      <th>3200</th>\n",
       "      <td>4.300000</td>\n",
       "      <td>Last Detail, The (1973)</td>\n",
       "    </tr>\n",
       "    <tr>\n",
       "      <th>1945</th>\n",
       "      <td>4.448276</td>\n",
       "      <td>On the Waterfront (1954)</td>\n",
       "    </tr>\n",
       "    <tr>\n",
       "      <th>1237</th>\n",
       "      <td>4.281250</td>\n",
       "      <td>Seventh Seal, The (Sjunde inseglet, Det) (1957)</td>\n",
       "    </tr>\n",
       "    <tr>\n",
       "      <th>1172</th>\n",
       "      <td>4.260870</td>\n",
       "      <td>Cinema Paradiso (Nuovo cinema Paradiso) (1989)</td>\n",
       "    </tr>\n",
       "    <tr>\n",
       "      <th>2357</th>\n",
       "      <td>4.318182</td>\n",
       "      <td>Central Station (Central do Brasil) (1998)</td>\n",
       "    </tr>\n",
       "    <tr>\n",
       "      <th>2019</th>\n",
       "      <td>4.277778</td>\n",
       "      <td>Seven Samurai (Shichinin no samurai) (1954)</td>\n",
       "    </tr>\n",
       "    <tr>\n",
       "      <th>3462</th>\n",
       "      <td>4.359375</td>\n",
       "      <td>Modern Times (1936)</td>\n",
       "    </tr>\n",
       "    <tr>\n",
       "      <th>1203</th>\n",
       "      <td>4.304054</td>\n",
       "      <td>12 Angry Men (1957)</td>\n",
       "    </tr>\n",
       "    <tr>\n",
       "      <th>954</th>\n",
       "      <td>4.225806</td>\n",
       "      <td>Mr. Smith Goes to Washington (1939)</td>\n",
       "    </tr>\n",
       "  </tbody>\n",
       "</table>\n",
       "</div>"
      ],
      "text/plain": [
       "           rating                                            title\n",
       "movieId                                                           \n",
       "2186     4.260870                      Strangers on a Train (1951)\n",
       "3200     4.300000                          Last Detail, The (1973)\n",
       "1945     4.448276                         On the Waterfront (1954)\n",
       "1237     4.281250  Seventh Seal, The (Sjunde inseglet, Det) (1957)\n",
       "1172     4.260870   Cinema Paradiso (Nuovo cinema Paradiso) (1989)\n",
       "2357     4.318182       Central Station (Central do Brasil) (1998)\n",
       "2019     4.277778      Seven Samurai (Shichinin no samurai) (1954)\n",
       "3462     4.359375                              Modern Times (1936)\n",
       "1203     4.304054                              12 Angry Men (1957)\n",
       "954      4.225806              Mr. Smith Goes to Washington (1939)"
      ]
     },
     "execution_count": 242,
     "metadata": {},
     "output_type": "execute_result"
    }
   ],
   "source": [
    "recommend(titles,moviesdf1,ratingsdf,23,10)\n"
   ]
  },
  {
   "cell_type": "code",
   "execution_count": null,
   "metadata": {
    "collapsed": true
   },
   "outputs": [],
   "source": []
  }
 ],
 "metadata": {
  "kernelspec": {
   "display_name": "Python 2",
   "language": "python",
   "name": "python2"
  },
  "language_info": {
   "codemirror_mode": {
    "name": "ipython",
    "version": 2
   },
   "file_extension": ".py",
   "mimetype": "text/x-python",
   "name": "python",
   "nbconvert_exporter": "python",
   "pygments_lexer": "ipython2",
   "version": "2.7.12"
  }
 },
 "nbformat": 4,
 "nbformat_minor": 1
}
