{
 "cells": [
  {
   "cell_type": "code",
   "execution_count": 34,
   "metadata": {
    "collapsed": false
   },
   "outputs": [],
   "source": [
    "import pandas as pd\n",
    "import numpy as np\n",
    "from sklearn import datasets, linear_model\n",
    "from kmodes import kmodes\n",
    "from sklearn.cluster import KMeans\n",
    "from sklearn.metrics import silhouette_samples, silhouette_score\n",
    "from matplotlib import pyplot\n",
    "import pylab as pl\n",
    "from sklearn.decomposition import PCA\n",
    "import random\n",
    "from scipy.spatial.distance import cdist,pdist\n",
    "moviesdf1 = pd.read_csv('./ml-latest-small/movies.csv')\n",
    "ratingsdf = pd.read_csv('./ml-latest-small//ratings.csv')\n",
    "ratingsdf=ratingsdf.groupby('movieId').filter(lambda x: len(x) >= 10)\n",
    "ratingsdf=ratingsdf.reset_index(drop=True)"
   ]
  },
  {
   "cell_type": "code",
   "execution_count": 35,
   "metadata": {
    "collapsed": false
   },
   "outputs": [],
   "source": [
    "cols_to_be_repeated = [\"movieId\", \"title\"]\n",
    "splitdf = lambda x: x.split('|')\n",
    "s = moviesdf1.genres.str.split(\"|\").apply(pd.Series, 1).stack()\n",
    "s.index = s.index.droplevel(-1)\n",
    "del moviesdf1['genres']\n",
    "moviesdfnew=moviesdf1.join(pd.DataFrame(s))\n",
    "\n"
   ]
  },
  {
   "cell_type": "code",
   "execution_count": 36,
   "metadata": {
    "collapsed": false
   },
   "outputs": [],
   "source": [
    "moviesdfnew.columns = ['movieId','title','genres']\n"
   ]
  },
  {
   "cell_type": "code",
   "execution_count": 37,
   "metadata": {
    "collapsed": false
   },
   "outputs": [],
   "source": [
    "df=pd.get_dummies(moviesdfnew['genres'])"
   ]
  },
  {
   "cell_type": "code",
   "execution_count": 38,
   "metadata": {
    "collapsed": false
   },
   "outputs": [],
   "source": [
    "moviesdf2=df.groupby(df.index).sum()\n",
    "movies=moviesdf1.join(moviesdf2, lsuffix='_moviesdf1', rsuffix='_moviedsf2')"
   ]
  },
  {
   "cell_type": "code",
   "execution_count": 39,
   "metadata": {
    "collapsed": false
   },
   "outputs": [],
   "source": [
    "\n",
    "titles = movies\n",
    "titles1 = titles.drop(titles.columns[[0, 1]], axis=1, inplace=True)\n",
    "titles1 = titles.as_matrix()\n"
   ]
  },
  {
   "cell_type": "code",
   "execution_count": 40,
   "metadata": {
    "collapsed": false
   },
   "outputs": [],
   "source": [
    "def withinss(km): \n",
    "    centroids =(km.cluster_centroids_)\n",
    "    D_k = [cdist(titles, centroids, 'jaccard')]\n",
    "    cIdx = [np.argmin(D,axis=1) for D in D_k]\n",
    "    dist = [np.min(D,axis=1) for D in D_k]\n",
    "    avgWithinSS = [sum(d)/titles.shape[0] for d in dist]\n",
    "    return avgWithinSS\n",
    "\n",
    "\n"
   ]
  },
  {
   "cell_type": "code",
   "execution_count": 55,
   "metadata": {
    "collapsed": false
   },
   "outputs": [],
   "source": [
    "def clusterFilms(titles):\n",
    "    random.seed(101)\n",
    "    i = 1\n",
    "    while(1):\n",
    "        i = i+1\n",
    "        movieCluster1 = kmodes.KModes(n_clusters=i, init='Huang', n_init=5, verbose=1).fit(titles)\n",
    "        movieCluster2 = kmodes.KModes(n_clusters=i+1, init='Huang', n_init=5, verbose=1).fit(titles)\n",
    "        ss1 = withinss(movieCluster1)\n",
    "        ss2 = withinss(movieCluster2)\n",
    "        print ss1\n",
    "         #decision criterion\n",
    "        dss = (ss1[0]-ss2[0])/ss1[0]\n",
    "        #exit if dss < 0.2\n",
    "        if (dss < 0.2):\n",
    "            pca = PCA(n_components=i).fit(titles)\n",
    "            pca_2d = pca.transform(titles)\n",
    "            for j in range(0, pca_2d.shape[0]):\n",
    "                if movieCluster1.labels_[j] == 0:\n",
    "                     c1 = pl.scatter(pca_2d[j,0],pca_2d[j,1],c='r',\n",
    "                     marker='+')\n",
    "                if movieCluster1.labels_[j]==1:\n",
    "                      c2 = pl.scatter(pca_2d[j,0],pca_2d[j,1],c='b',\n",
    "                     marker='*')\n",
    "                if movieCluster1.labels_[j]==2:\n",
    "                      c2 = pl.scatter(pca_2d[j,0],pca_2d[j,1],c='g',\n",
    "                     marker='o')\n",
    "            pl.show()\n",
    "            print(\"no of cluster \",i)\n",
    "            break\n",
    "    return(movieCluster1)\n",
    "        "
   ]
  },
  {
   "cell_type": "code",
   "execution_count": 42,
   "metadata": {
    "collapsed": false,
    "scrolled": true
   },
   "outputs": [],
   "source": [
    "#moviecluster=clusterFilms(titles)\n",
    "\n",
    "#ratingsdf.head()\n",
    "def getUserInfo(ratingsdf,id):\n",
    "    df = ratingsdf[ratingsdf.userId == 3][['movieId','rating']]\n",
    "    a=pd.DataFrame(df.sort('movieId'))\n",
    "    a=a.reset_index(drop=True)    \n",
    "    return a\n"
   ]
  },
  {
   "cell_type": "code",
   "execution_count": 43,
   "metadata": {
    "collapsed": false
   },
   "outputs": [],
   "source": [
    "def setcluster(moviecluster,a):\n",
    "    df1=pd.DataFrame(moviesdf1.movieId)\n",
    "    df1['clusterno'] = moviecluster.labels_\n",
    "    df2 = df1[df1.movieId.isin(a.movieId)]\n",
    "    df2=df2.reset_index(drop=True)\n",
    "    a['cluster']=df2.clusterno\n",
    "\n",
    "    return a"
   ]
  },
  {
   "cell_type": "code",
   "execution_count": 44,
   "metadata": {
    "collapsed": false
   },
   "outputs": [],
   "source": [
    "def getmeanratings(a):\n",
    "    b=pd.DataFrame(a.groupby(a.cluster)['rating'].mean())\n",
    "    \n",
    "    c = b[b.rating==max(b.rating)].index\n",
    "    return c\n"
   ]
  },
  {
   "cell_type": "code",
   "execution_count": 45,
   "metadata": {
    "collapsed": false
   },
   "outputs": [],
   "source": [
    "def getrecommendedfilms(c,moviecluster,moviesdf1,a,ratingsdf):\n",
    "    df1=pd.DataFrame(moviesdf1.movieId)\n",
    "    df1['clusterno'] = moviecluster.labels_\n",
    "    df3=df1[df1.clusterno.isin(c)][['movieId']]\n",
    "    df3 = df3.reset_index(drop=True)\n",
    "    df3 = df3[~df3.movieId.isin(a.movieId)]\n",
    "    df3 = df3.reset_index(drop=True)\n",
    "    d = ratingsdf[ratingsdf.movieId.isin(df3.movieId)]\n",
    "#b=pd.DataFrame(a.groupby(a.cluster)['rating'].mean())\n",
    "    d = d.reset_index(drop=True)\n",
    "    r=pd.DataFrame(d.groupby(d.movieId)['rating'].mean())\n",
    "    t=moviesdf1[moviesdf1.movieId.isin(r.index)]['title']\n",
    "    t.index = r.index\n",
    "    r['title']=t\n",
    "    return r.sort_values(by='rating',ascending=False)\n"
   ]
  },
  {
   "cell_type": "code",
   "execution_count": 59,
   "metadata": {
    "collapsed": false
   },
   "outputs": [],
   "source": [
    "def recommend(titles,moviesdf1,ratingsdf,userid,number):\n",
    "    moviecluster = clusterFilms(titles)\n",
    "    print (\"The silhouette score is %f\" % (silhouette_score(titles,moviecluster.labels_)))\n",
    "    print (\" The Average within sum of square distance is %f\" % (withinss(moviecluster))[0])\n",
    "    activeuser = getUserInfo(ratingsdf,userid)\n",
    "    activeuser = setcluster(moviecluster,activeuser)\n",
    "    cluster = getmeanratings(activeuser)\n",
    "    recommend = getrecommendedfilms(cluster,moviecluster,moviesdf1,activeuser,ratingsdf)\n",
    "    top = recommend.head(n = 50)\n",
    "    \n",
    "    return top.sample(number)\n",
    "    "
   ]
  },
  {
   "cell_type": "code",
   "execution_count": 60,
   "metadata": {
    "collapsed": false,
    "scrolled": false
   },
   "outputs": [
    {
     "name": "stdout",
     "output_type": "stream",
     "text": [
      "Init: initializing centroids\n",
      "Init: initializing clusters\n",
      "Starting iterations...\n",
      "Run 1, iteration: 1/100, moves: 0, cost: 20090.0\n",
      "Init: initializing centroids\n",
      "Init: initializing clusters\n",
      "Starting iterations...\n",
      "Run 2, iteration: 1/100, moves: 326, cost: 15975.0\n",
      "Run 2, iteration: 2/100, moves: 0, cost: 15975.0\n",
      "Init: initializing centroids\n",
      "Init: initializing clusters\n",
      "Starting iterations...\n",
      "Run 3, iteration: 1/100, moves: 161, cost: 15975.0\n",
      "Run 3, iteration: 2/100, moves: 0, cost: 15975.0\n",
      "Init: initializing centroids\n",
      "Init: initializing clusters\n",
      "Starting iterations...\n",
      "Run 4, iteration: 1/100, moves: 4158, cost: 15975.0\n",
      "Run 4, iteration: 2/100, moves: 77, cost: 15975.0\n",
      "Init: initializing centroids\n",
      "Init: initializing clusters\n",
      "Starting iterations...\n",
      "Run 5, iteration: 1/100, moves: 0, cost: 20056.0\n",
      "Best run was number 2\n",
      "Init: initializing centroids\n",
      "Init: initializing clusters\n",
      "Starting iterations...\n",
      "Run 1, iteration: 1/100, moves: 836, cost: 14453.0\n",
      "Run 1, iteration: 2/100, moves: 0, cost: 14453.0\n",
      "Init: initializing centroids\n",
      "Init: initializing clusters\n",
      "Starting iterations...\n",
      "Run 2, iteration: 1/100, moves: 5663, cost: 17358.0\n",
      "Run 2, iteration: 2/100, moves: 0, cost: 17358.0\n",
      "Init: initializing centroids\n",
      "Init: initializing clusters\n",
      "Starting iterations...\n",
      "Run 3, iteration: 1/100, moves: 2526, cost: 14453.0\n",
      "Run 3, iteration: 2/100, moves: 0, cost: 14453.0\n",
      "Init: initializing centroids\n",
      "Init: initializing clusters\n",
      "Starting iterations...\n",
      "Run 4, iteration: 1/100, moves: 2334, cost: 13609.0\n",
      "Run 4, iteration: 2/100, moves: 29, cost: 13609.0\n",
      "Init: initializing centroids\n",
      "Init: initializing clusters\n",
      "Starting iterations...\n",
      "Run 5, iteration: 1/100, moves: 1480, cost: 13609.0\n",
      "Run 5, iteration: 2/100, moves: 0, cost: 13609.0\n",
      "Best run was number 4\n",
      "[0.73339112850620969]\n",
      "Init: initializing centroids\n",
      "Init: initializing clusters\n",
      "Starting iterations...\n",
      "Run 1, iteration: 1/100, moves: 3763, cost: 14391.0\n",
      "Run 1, iteration: 2/100, moves: 1413, cost: 14385.0\n",
      "Run 1, iteration: 3/100, moves: 496, cost: 14385.0\n",
      "Init: initializing centroids\n",
      "Init: initializing clusters\n",
      "Starting iterations...\n",
      "Run 2, iteration: 1/100, moves: 3579, cost: 14833.0\n",
      "Run 2, iteration: 2/100, moves: 2155, cost: 13609.0\n",
      "Run 2, iteration: 3/100, moves: 804, cost: 13609.0\n",
      "Init: initializing centroids\n",
      "Init: initializing clusters\n",
      "Starting iterations...\n",
      "Run 3, iteration: 1/100, moves: 2799, cost: 13609.0\n",
      "Run 3, iteration: 2/100, moves: 354, cost: 13609.0\n",
      "Init: initializing centroids\n",
      "Init: initializing clusters\n",
      "Starting iterations...\n",
      "Run 4, iteration: 1/100, moves: 3052, cost: 14385.0\n",
      "Run 4, iteration: 2/100, moves: 424, cost: 14385.0\n",
      "Init: initializing centroids\n",
      "Init: initializing clusters\n",
      "Starting iterations...\n",
      "Run 5, iteration: 1/100, moves: 149, cost: 13609.0\n",
      "Run 5, iteration: 2/100, moves: 0, cost: 13609.0\n",
      "Best run was number 2\n",
      "Init: initializing centroids\n",
      "Init: initializing clusters\n",
      "Starting iterations...\n",
      "Run 1, iteration: 1/100, moves: 1894, cost: 13443.0\n",
      "Run 1, iteration: 2/100, moves: 577, cost: 13443.0\n",
      "Init: initializing centroids\n",
      "Init: initializing clusters\n",
      "Starting iterations...\n",
      "Run 2, iteration: 1/100, moves: 2065, cost: 13863.0\n",
      "Run 2, iteration: 2/100, moves: 0, cost: 13863.0\n",
      "Init: initializing centroids\n",
      "Init: initializing clusters\n",
      "Starting iterations...\n",
      "Run 3, iteration: 1/100, moves: 2137, cost: 13243.0\n",
      "Run 3, iteration: 2/100, moves: 48, cost: 13243.0\n",
      "Init: initializing centroids\n",
      "Init: initializing clusters\n",
      "Starting iterations...\n",
      "Run 4, iteration: 1/100, moves: 582, cost: 13032.0\n",
      "Run 4, iteration: 2/100, moves: 435, cost: 13032.0\n",
      "Init: initializing centroids\n",
      "Init: initializing clusters\n",
      "Starting iterations...\n",
      "Run 5, iteration: 1/100, moves: 1973, cost: 16278.0\n",
      "Run 5, iteration: 2/100, moves: 54, cost: 16278.0\n",
      "Best run was number 4\n",
      "[0.57565153294194793]\n"
     ]
    },
    {
     "data": {
      "image/png": "[encoded data removed]",
      "text/plain": [
       "<matplotlib.figure.Figure at 0x7f8bd6fc9850>"
      ]
     },
     "metadata": {},
     "output_type": "display_data"
    },
    {
     "name": "stdout",
     "output_type": "stream",
     "text": [
      "('no of cluster ', 3)\n",
      "The silhouette score is 0.237431\n",
      " The Average within sum of square distance is 0.575652\n"
     ]
    },
    {
     "name": "stderr",
     "output_type": "stream",
     "text": [
      "/usr/local/lib/python2.7/dist-packages/ipykernel/__main__.py:6: FutureWarning: sort(columns=....) is deprecated, use sort_values(by=.....)\n"
     ]
    },
    {
     "data": {
      "text/html": [
       "<div>\n",
       "<table border=\"1\" class=\"dataframe\">\n",
       "  <thead>\n",
       "    <tr style=\"text-align: right;\">\n",
       "      <th></th>\n",
       "      <th>rating</th>\n",
       "      <th>title</th>\n",
       "    </tr>\n",
       "    <tr>\n",
       "      <th>movieId</th>\n",
       "      <th></th>\n",
       "      <th></th>\n",
       "    </tr>\n",
       "  </thead>\n",
       "  <tbody>\n",
       "    <tr>\n",
       "      <th>946</th>\n",
       "      <td>4.300000</td>\n",
       "      <td>To Be or Not to Be (1942)</td>\n",
       "    </tr>\n",
       "    <tr>\n",
       "      <th>1172</th>\n",
       "      <td>4.260870</td>\n",
       "      <td>Cinema Paradiso (Nuovo cinema Paradiso) (1989)</td>\n",
       "    </tr>\n",
       "    <tr>\n",
       "      <th>1221</th>\n",
       "      <td>4.385185</td>\n",
       "      <td>Godfather: Part II, The (1974)</td>\n",
       "    </tr>\n",
       "    <tr>\n",
       "      <th>608</th>\n",
       "      <td>4.256696</td>\n",
       "      <td>Fargo (1996)</td>\n",
       "    </tr>\n",
       "    <tr>\n",
       "      <th>3071</th>\n",
       "      <td>4.227273</td>\n",
       "      <td>Stand and Deliver (1988)</td>\n",
       "    </tr>\n",
       "    <tr>\n",
       "      <th>194</th>\n",
       "      <td>4.291667</td>\n",
       "      <td>Smoke (1995)</td>\n",
       "    </tr>\n",
       "    <tr>\n",
       "      <th>1305</th>\n",
       "      <td>4.291667</td>\n",
       "      <td>Paris, Texas (1984)</td>\n",
       "    </tr>\n",
       "    <tr>\n",
       "      <th>954</th>\n",
       "      <td>4.225806</td>\n",
       "      <td>Mr. Smith Goes to Washington (1939)</td>\n",
       "    </tr>\n",
       "    <tr>\n",
       "      <th>1060</th>\n",
       "      <td>4.226190</td>\n",
       "      <td>Swingers (1996)</td>\n",
       "    </tr>\n",
       "    <tr>\n",
       "      <th>3469</th>\n",
       "      <td>4.541667</td>\n",
       "      <td>Inherit the Wind (1960)</td>\n",
       "    </tr>\n",
       "  </tbody>\n",
       "</table>\n",
       "</div>"
      ],
      "text/plain": [
       "           rating                                           title\n",
       "movieId                                                          \n",
       "946      4.300000                       To Be or Not to Be (1942)\n",
       "1172     4.260870  Cinema Paradiso (Nuovo cinema Paradiso) (1989)\n",
       "1221     4.385185                  Godfather: Part II, The (1974)\n",
       "608      4.256696                                    Fargo (1996)\n",
       "3071     4.227273                        Stand and Deliver (1988)\n",
       "194      4.291667                                    Smoke (1995)\n",
       "1305     4.291667                             Paris, Texas (1984)\n",
       "954      4.225806             Mr. Smith Goes to Washington (1939)\n",
       "1060     4.226190                                 Swingers (1996)\n",
       "3469     4.541667                         Inherit the Wind (1960)"
      ]
     },
     "execution_count": 60,
     "metadata": {},
     "output_type": "execute_result"
    }
   ],
   "source": [
    "recommend(titles,moviesdf1,ratingsdf,3,10)\n"
   ]
  },
  {
   "cell_type": "code",
   "execution_count": null,
   "metadata": {
    "collapsed": true
   },
   "outputs": [],
   "source": []
  }
 ],
 "metadata": {
  "kernelspec": {
   "display_name": "Python 2",
   "language": "python",
   "name": "python2"
  },
  "language_info": {
   "codemirror_mode": {
    "name": "ipython",
    "version": 2
   },
   "file_extension": ".py",
   "mimetype": "text/x-python",
   "name": "python",
   "nbconvert_exporter": "python",
   "pygments_lexer": "ipython2",
   "version": "2.7.12"
  }
 },
 "nbformat": 4,
 "nbformat_minor": 1
}
